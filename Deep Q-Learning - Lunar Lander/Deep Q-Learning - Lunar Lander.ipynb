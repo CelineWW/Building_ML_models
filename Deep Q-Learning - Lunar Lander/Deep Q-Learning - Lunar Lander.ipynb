{
 "cells": [
  {
   "cell_type": "markdown",
   "metadata": {},
   "source": [
    "# Deep Q-Learning - Lunar Lander\n",
    "\n",
    "In this assignment, you will train an agent to land a lunar lander safely on a landing pad on the surface of the moon.\n",
    "\n",
    "\n",
    "# Outline\n",
    "- [ 1 - Import Packages <img align=\"Right\" src=\"./images/lunar_lander.gif\" width = 60% >](#1)\n",
    "- [ 2 - Hyperparameters](#2)\n",
    "- [ 3 - The Lunar Lander Environment](#3)\n",
    "  - [ 3.1 Action Space](#3.1)\n",
    "  - [ 3.2 Observation Space](#3.2)\n",
    "  - [ 3.3 Rewards](#3.3)\n",
    "  - [ 3.4 Episode Termination](#3.4)\n",
    "- [ 4 - Load the Environment](#4)\n",
    "- [ 5 - Interacting with the Gym Environment](#5)\n",
    "    - [ 5.1 Exploring the Environment's Dynamics](#5.1)\n",
    "- [ 6 - Deep Q-Learning](#6)\n",
    "  - [ 6.1 Target Network](#6.1)\n",
    "    - [ Exercise 1](#ex01)\n",
    "  - [ 6.2 Experience Replay](#6.2)\n",
    "- [ 7 - Deep Q-Learning Algorithm with Experience Replay](#7)\n",
    "  - [ Exercise 2](#ex02)\n",
    "- [ 8 - Update the Network Weights](#8)\n",
    "- [ 9 - Train the Agent](#9)\n",
    "- [ 10 - See the Trained Agent In Action](#10)\n",
    "- [ 11 - Congratulations!](#11)\n",
    "- [ 12 - References](#12)\n"
   ]
  },
  {
   "cell_type": "markdown",
   "metadata": {},
   "source": [
    "_**NOTE:** To prevent errors from the autograder, you are not allowed to edit or delete non-graded cells in this lab. Please also refrain from adding any new cells. \n",
    "**Once you have passed this assignment** and want to experiment with any of the non-graded code, you may follow the instructions at the bottom of this notebook._"
   ]
  },
  {
   "cell_type": "markdown",
   "metadata": {},
   "source": [
    "<a name=\"1\"></a>\n",
    "## 1 - Import Packages\n",
    "\n",
    "We'll make use of the following packages:\n",
    "- `numpy` is a package for scientific computing in python.\n",
    "- `deque` will be our data structure for our memory buffer.\n",
    "- `namedtuple` will be used to store the experience tuples.\n",
    "- The `gym` toolkit is a collection of environments that can be used to test reinforcement learning algorithms. We should note that in this notebook we are using `gym` version `0.24.0`.\n",
    "- `PIL.Image` and `pyvirtualdisplay` are needed to render the Lunar Lander environment.\n",
    "- We will use several modules from the `tensorflow.keras` framework for building deep learning models.\n",
    "- `utils` is a module that contains helper functions for this assignment. You do not need to modify the code in this file.\n",
    "\n",
    "Run the cell below to import all the necessary packages."
   ]
  },
  {
   "cell_type": "code",
   "execution_count": 1,
   "metadata": {
    "deletable": false,
    "editable": false,
    "id": "KYbOPKRtfQOr"
   },
   "outputs": [],
   "source": [
    "import time\n",
    "from collections import deque, namedtuple\n",
    "\n",
    "import gym\n",
    "import numpy as np\n",
    "import PIL.Image\n",
    "import tensorflow as tf\n",
    "import utils\n",
    "\n",
    "from pyvirtualdisplay import Display\n",
    "from tensorflow.keras import Sequential\n",
    "from tensorflow.keras.layers import Dense, Input\n",
    "from tensorflow.keras.losses import MSE\n",
    "from tensorflow.keras.optimizers import Adam"
   ]
  },
  {
   "cell_type": "code",
   "execution_count": 2,
   "metadata": {
    "deletable": false,
    "editable": false
   },
   "outputs": [],
   "source": [
    "# Set up a virtual display to render the Lunar Lander environment.\n",
    "Display(visible=0, size=(840, 480)).start();\n",
    "\n",
    "# Set the random seed for TensorFlow\n",
    "tf.random.set_seed(utils.SEED)"
   ]
  },
  {
   "cell_type": "markdown",
   "metadata": {},
   "source": [
    "<a name=\"2\"></a>\n",
    "## 2 - Hyperparameters\n",
    "\n",
    "Run the cell below to set the hyperparameters."
   ]
  },
  {
   "cell_type": "code",
   "execution_count": 3,
   "metadata": {
    "deletable": false,
    "editable": false
   },
   "outputs": [],
   "source": [
    "MEMORY_SIZE = 100_000     # size of memory buffer\n",
    "GAMMA = 0.995             # discount factor\n",
    "ALPHA = 1e-3              # learning rate  \n",
    "NUM_STEPS_FOR_UPDATE = 4  # perform a learning update every C time steps"
   ]
  },
  {
   "cell_type": "markdown",
   "metadata": {},
   "source": [
    "<a name=\"3\"></a>\n",
    "## 3 - The Lunar Lander Environment\n",
    "\n",
    "In this notebook we will be using [OpenAI's Gym Library](https://www.gymlibrary.dev/). The Gym library provides a wide variety of environments for reinforcement learning. To put it simply, an environment represents a problem or task to be solved. In this notebook, we will try to solve the Lunar Lander environment using reinforcement learning.\n",
    "\n",
    "The goal of the Lunar Lander environment is to land the lunar lander safely on the landing pad on the surface of the moon. The landing pad is designated by two flag poles and its center is at coordinates `(0,0)` but the lander is also allowed to land outside of the landing pad. The lander starts at the top center of the environment with a random initial force applied to its center of mass and has infinite fuel. The environment is considered solved if you get `200` points. \n",
    "\n",
    "<br>\n",
    "<br>\n",
    "<figure>\n",
    "  <img src = \"images/lunar_lander.gif\" width = 40%>\n",
    "      <figcaption style = \"text-align: center; font-style: italic\">Fig 1. Lunar Lander Environment.</figcaption>\n",
    "</figure>\n",
    "\n",
    "\n",
    "\n",
    "<a name=\"3.1\"></a>\n",
    "### 3.1 Action Space\n",
    "\n",
    "The agent has four discrete actions available:\n",
    "\n",
    "* Do nothing.\n",
    "* Fire right engine.\n",
    "* Fire main engine.\n",
    "* Fire left engine.\n",
    "\n",
    "Each action has a corresponding numerical value:\n",
    "\n",
    "```python\n",
    "Do nothing = 0\n",
    "Fire right engine = 1\n",
    "Fire main engine = 2\n",
    "Fire left engine = 3\n",
    "```\n",
    "\n",
    "<a name=\"3.2\"></a>\n",
    "### 3.2 Observation Space\n",
    "\n",
    "The agent's observation space consists of a state vector with 8 variables:\n",
    "\n",
    "* Its $(x,y)$ coordinates. The landing pad is always at coordinates $(0,0)$.\n",
    "* Its linear velocities $(\\dot x,\\dot y)$.\n",
    "* Its angle $\\theta$.\n",
    "* Its angular velocity $\\dot \\theta$.\n",
    "* Two booleans, $l$ and $r$, that represent whether each leg is in contact with the ground or not.\n",
    "\n",
    "<a name=\"3.3\"></a>\n",
    "### 3.3 Rewards\n",
    "\n",
    "After every step, a reward is granted. The total reward of an episode is the sum of the rewards for all the steps within that episode.\n",
    "\n",
    "For each step, the reward:\n",
    "- is increased/decreased the closer/further the lander is to the landing pad.\n",
    "- is increased/decreased the slower/faster the lander is moving.\n",
    "- is decreased the more the lander is tilted (angle not horizontal).\n",
    "- is increased by 10 points for each leg that is in contact with the ground.\n",
    "- is decreased by 0.03 points each frame a side engine is firing.\n",
    "- is decreased by 0.3 points each frame the main engine is firing.\n",
    "\n",
    "The episode receives an additional reward of -100 or +100 points for crashing or landing safely respectively.\n",
    "\n",
    "<a name=\"3.4\"></a>\n",
    "### 3.4 Episode Termination\n",
    "\n",
    "An episode ends (i.e the environment enters a terminal state) if:\n",
    "\n",
    "* The lunar lander crashes (i.e if the body of the lunar lander comes in contact with the surface of the moon).\n",
    "\n",
    "* The absolute value of the lander's $x$-coordinate is greater than 1 (i.e. it goes beyond the left or right border)\n",
    "\n",
    "You can check out the [Open AI Gym documentation](https://www.gymlibrary.dev/environments/box2d/lunar_lander/) for a full description of the environment. "
   ]
  },
  {
   "cell_type": "markdown",
   "metadata": {},
   "source": [
    "<a name=\"4\"></a>\n",
    "## 4 - Load the Environment\n",
    "\n",
    "We start by loading the `LunarLander-v2` environment from the `gym` library by using the `.make()` method. `LunarLander-v2` is the latest version of the Lunar Lander environment and you can read about its version history in the [Open AI Gym documentation](https://www.gymlibrary.dev/environments/box2d/lunar_lander/#version-history)."
   ]
  },
  {
   "cell_type": "code",
   "execution_count": 4,
   "metadata": {
    "deletable": false,
    "editable": false,
    "id": "ILVMYKewfR0n"
   },
   "outputs": [],
   "source": [
    "env = gym.make('LunarLander-v2')"
   ]
  },
  {
   "cell_type": "markdown",
   "metadata": {},
   "source": [
    "Once we load the environment we use the `.reset()` method to reset the environment to the initial state. The lander starts at the top center of the environment and we can render the first frame of the environment by using the `.render()` method."
   ]
  },
  {
   "cell_type": "code",
   "execution_count": null,
   "metadata": {
    "deletable": false,
    "editable": false
   },
   "outputs": [],
   "source": [
    "env.reset()\n",
    "PIL.Image.fromarray(env.render(mode='rgb_array'))"
   ]
  },
  {
   "cell_type": "markdown",
   "metadata": {},
   "source": [
    "In order to build our neural network later on we need to know the size of the state vector and the number of valid actions. We can get this information from our environment by using the `.observation_space.shape` and `action_space.n` methods, respectively."
   ]
  },
  {
   "cell_type": "code",
   "execution_count": 5,
   "metadata": {
    "deletable": false,
    "editable": false,
    "id": "x3fdqdG4CUu2"
   },
   "outputs": [
    {
     "name": "stdout",
     "output_type": "stream",
     "text": [
      "State Shape: (8,)\n",
      "Number of actions: 4\n"
     ]
    }
   ],
   "source": [
    "state_size = env.observation_space.shape\n",
    "num_actions = env.action_space.n\n",
    "\n",
    "print('State Shape:', state_size)\n",
    "print('Number of actions:', num_actions)"
   ]
  },
  {
   "cell_type": "markdown",
   "metadata": {},
   "source": [
    "<a name=\"5\"></a>\n",
    "## 5 - Interacting with the Gym Environment\n",
    "\n",
    "The Gym library implements the standard “agent-environment loop” formalism:\n",
    "\n",
    "<br>\n",
    "<center>\n",
    "<video src = \"./videos/rl_formalism.m4v\" width=\"840\" height=\"480\" controls autoplay loop poster=\"./images/rl_formalism.png\"> </video>\n",
    "<figcaption style = \"text-align:center; font-style:italic\">Fig 2. Agent-environment Loop Formalism.</figcaption>\n",
    "</center>\n",
    "<br>\n",
    "\n",
    "In the standard “agent-environment loop” formalism, an agent interacts with the environment in discrete time steps $t=0,1,2,...$. At each time step $t$, the agent uses a policy $\\pi$ to select an action $A_t$ based on its observation of the environment's state $S_t$. The agent receives a numerical reward $R_t$ and on the next time step, moves to a new state $S_{t+1}$.\n",
    "\n",
    "<a name=\"5.1\"></a>\n",
    "### 5.1 Exploring the Environment's Dynamics\n",
    "\n",
    "In Open AI's Gym environments, we use the `.step()` method to run a single time step of the environment's dynamics. In the version of `gym` that we are using the `.step()` method accepts an action and returns four values:\n",
    "\n",
    "* `observation` (**object**): an environment-specific object representing your observation of the environment. In the Lunar Lander environment this corresponds to a numpy array containing the positions and velocities of the lander as described in section [3.2 Observation Space](#3.2).\n",
    "\n",
    "\n",
    "* `reward` (**float**): amount of reward returned as a result of taking the given action. In the Lunar Lander environment this corresponds to a float of type `numpy.float64` as described in section [3.3 Rewards](#3.3).\n",
    "\n",
    "\n",
    "* `done` (**boolean**): When done is `True`, it indicates the episode has terminated and it’s time to reset the environment. \n",
    "\n",
    "\n",
    "* `info` (**dictionary**): diagnostic information useful for debugging. We won't be using this variable in this notebook but it is shown here for completeness.\n",
    "\n",
    "To begin an episode, we need to reset the environment to an initial state. We do this by using the `.reset()` method. "
   ]
  },
  {
   "cell_type": "code",
   "execution_count": 6,
   "metadata": {
    "deletable": false,
    "editable": false
   },
   "outputs": [],
   "source": [
    "# Reset the environment and get the initial state.\n",
    "current_state = env.reset()"
   ]
  },
  {
   "cell_type": "markdown",
   "metadata": {},
   "source": [
    "Once the environment is reset, the agent can start taking actions in the environment by using the `.step()` method. Note that the agent can only take one action per time step. \n",
    "\n",
    "In the cell below you can select different actions and see how the returned values change depending on the action taken. Remember that in this environment the agent has four discrete actions available and we specify them in code by using their corresponding numerical value:\n",
    "\n",
    "```python\n",
    "Do nothing = 0\n",
    "Fire right engine = 1\n",
    "Fire main engine = 2\n",
    "Fire left engine = 3\n",
    "```"
   ]
  },
  {
   "cell_type": "code",
   "execution_count": 7,
   "metadata": {
    "deletable": false
   },
   "outputs": [
    {
     "data": {
      "text/html": [
       "<style  type=\"text/css\" >\n",
       "    #T_32e358aa_fbf6_11ed_8c9a_0242ac120021 th {\n",
       "          border: 1px solid grey;\n",
       "          text-align: center;\n",
       "    }    #T_32e358aa_fbf6_11ed_8c9a_0242ac120021 tbody td {\n",
       "          border: 1px solid grey;\n",
       "          text-align: center;\n",
       "    }    #T_32e358aa_fbf6_11ed_8c9a_0242ac120021row0_col0 {\n",
       "            background-color :  grey;\n",
       "        }    #T_32e358aa_fbf6_11ed_8c9a_0242ac120021row1_col1 {\n",
       "            background-color :  grey;\n",
       "        }    #T_32e358aa_fbf6_11ed_8c9a_0242ac120021row1_col2 {\n",
       "            background-color :  grey;\n",
       "        }    #T_32e358aa_fbf6_11ed_8c9a_0242ac120021row1_col3 {\n",
       "            background-color :  grey;\n",
       "        }    #T_32e358aa_fbf6_11ed_8c9a_0242ac120021row1_col4 {\n",
       "            background-color :  grey;\n",
       "        }    #T_32e358aa_fbf6_11ed_8c9a_0242ac120021row1_col5 {\n",
       "            background-color :  grey;\n",
       "        }    #T_32e358aa_fbf6_11ed_8c9a_0242ac120021row1_col6 {\n",
       "            background-color :  grey;\n",
       "        }    #T_32e358aa_fbf6_11ed_8c9a_0242ac120021row1_col7 {\n",
       "            background-color :  grey;\n",
       "        }    #T_32e358aa_fbf6_11ed_8c9a_0242ac120021row1_col8 {\n",
       "            background-color :  grey;\n",
       "        }    #T_32e358aa_fbf6_11ed_8c9a_0242ac120021row1_col9 {\n",
       "            background-color :  grey;\n",
       "        }    #T_32e358aa_fbf6_11ed_8c9a_0242ac120021row1_col10 {\n",
       "            background-color :  grey;\n",
       "        }    #T_32e358aa_fbf6_11ed_8c9a_0242ac120021row1_col11 {\n",
       "            background-color :  grey;\n",
       "        }    #T_32e358aa_fbf6_11ed_8c9a_0242ac120021row2_col0 {\n",
       "            background-color :  grey;\n",
       "        }    #T_32e358aa_fbf6_11ed_8c9a_0242ac120021row3_col1 {\n",
       "            background-color :  grey;\n",
       "        }    #T_32e358aa_fbf6_11ed_8c9a_0242ac120021row3_col2 {\n",
       "            background-color :  grey;\n",
       "        }    #T_32e358aa_fbf6_11ed_8c9a_0242ac120021row3_col3 {\n",
       "            background-color :  grey;\n",
       "        }    #T_32e358aa_fbf6_11ed_8c9a_0242ac120021row3_col4 {\n",
       "            background-color :  grey;\n",
       "        }    #T_32e358aa_fbf6_11ed_8c9a_0242ac120021row3_col5 {\n",
       "            background-color :  grey;\n",
       "        }    #T_32e358aa_fbf6_11ed_8c9a_0242ac120021row3_col6 {\n",
       "            background-color :  grey;\n",
       "        }    #T_32e358aa_fbf6_11ed_8c9a_0242ac120021row3_col7 {\n",
       "            background-color :  grey;\n",
       "        }    #T_32e358aa_fbf6_11ed_8c9a_0242ac120021row3_col8 {\n",
       "            background-color :  grey;\n",
       "        }    #T_32e358aa_fbf6_11ed_8c9a_0242ac120021row3_col9 {\n",
       "            background-color :  grey;\n",
       "        }    #T_32e358aa_fbf6_11ed_8c9a_0242ac120021row3_col10 {\n",
       "            background-color :  grey;\n",
       "        }    #T_32e358aa_fbf6_11ed_8c9a_0242ac120021row3_col11 {\n",
       "            background-color :  grey;\n",
       "        }    #T_32e358aa_fbf6_11ed_8c9a_0242ac120021row4_col1 {\n",
       "            background-color :  grey;\n",
       "        }    #T_32e358aa_fbf6_11ed_8c9a_0242ac120021row4_col2 {\n",
       "            background-color :  grey;\n",
       "        }    #T_32e358aa_fbf6_11ed_8c9a_0242ac120021row4_col3 {\n",
       "            background-color :  grey;\n",
       "        }    #T_32e358aa_fbf6_11ed_8c9a_0242ac120021row4_col4 {\n",
       "            background-color :  grey;\n",
       "        }    #T_32e358aa_fbf6_11ed_8c9a_0242ac120021row4_col5 {\n",
       "            background-color :  grey;\n",
       "        }    #T_32e358aa_fbf6_11ed_8c9a_0242ac120021row4_col6 {\n",
       "            background-color :  grey;\n",
       "        }    #T_32e358aa_fbf6_11ed_8c9a_0242ac120021row4_col7 {\n",
       "            background-color :  grey;\n",
       "        }    #T_32e358aa_fbf6_11ed_8c9a_0242ac120021row4_col8 {\n",
       "            background-color :  grey;\n",
       "        }    #T_32e358aa_fbf6_11ed_8c9a_0242ac120021row4_col9 {\n",
       "            background-color :  grey;\n",
       "        }    #T_32e358aa_fbf6_11ed_8c9a_0242ac120021row4_col10 {\n",
       "            background-color :  grey;\n",
       "        }    #T_32e358aa_fbf6_11ed_8c9a_0242ac120021row4_col11 {\n",
       "            background-color :  grey;\n",
       "        }</style><table id=\"T_32e358aa_fbf6_11ed_8c9a_0242ac120021\" ><thead>    <tr>        <th class=\"blank level0\" ></th>        <th class=\"col_heading level0 col0\" ></th>        <th class=\"col_heading level0 col1\" colspan=8>State Vector</th>        <th class=\"col_heading level0 col9\" colspan=3>Derived from the State Vector (the closer to zero, the better)</th>    </tr>    <tr>        <th class=\"blank level1\" ></th>        <th class=\"col_heading level1 col0\" ></th>        <th class=\"col_heading level1 col1\" colspan=2>Coordinate</th>        <th class=\"col_heading level1 col3\" colspan=2>Velocity</th>        <th class=\"col_heading level1 col5\" colspan=2>Tilting</th>        <th class=\"col_heading level1 col7\" colspan=2>Ground contact</th>        <th class=\"col_heading level1 col9\" >Distance from landing pad</th>        <th class=\"col_heading level1 col10\" >Velocity</th>        <th class=\"col_heading level1 col11\" >Tilting Angle (absolute value)</th>    </tr>    <tr>        <th class=\"blank level2\" ></th>        <th class=\"col_heading level2 col0\" ></th>        <th class=\"col_heading level2 col1\" >X (Horizontal)</th>        <th class=\"col_heading level2 col2\" >Y (Vertical)</th>        <th class=\"col_heading level2 col3\" >X (Horizontal)</th>        <th class=\"col_heading level2 col4\" >Y (Vertical)</th>        <th class=\"col_heading level2 col5\" >Angle</th>        <th class=\"col_heading level2 col6\" >Angular Velocity</th>        <th class=\"col_heading level2 col7\" >Left Leg?</th>        <th class=\"col_heading level2 col8\" >Right Leg?</th>        <th class=\"col_heading level2 col9\" ></th>        <th class=\"col_heading level2 col10\" ></th>        <th class=\"col_heading level2 col11\" ></th>    </tr></thead><tbody>\n",
       "                <tr>\n",
       "                        <th id=\"T_32e358aa_fbf6_11ed_8c9a_0242ac120021level0_row0\" class=\"row_heading level0 row0\" >Current State</th>\n",
       "                        <td id=\"T_32e358aa_fbf6_11ed_8c9a_0242ac120021row0_col0\" class=\"data row0 col0\" ></td>\n",
       "                        <td id=\"T_32e358aa_fbf6_11ed_8c9a_0242ac120021row0_col1\" class=\"data row0 col1\" >-0.001524</td>\n",
       "                        <td id=\"T_32e358aa_fbf6_11ed_8c9a_0242ac120021row0_col2\" class=\"data row0 col2\" >1.403024</td>\n",
       "                        <td id=\"T_32e358aa_fbf6_11ed_8c9a_0242ac120021row0_col3\" class=\"data row0 col3\" >-0.154351</td>\n",
       "                        <td id=\"T_32e358aa_fbf6_11ed_8c9a_0242ac120021row0_col4\" class=\"data row0 col4\" >-0.350919</td>\n",
       "                        <td id=\"T_32e358aa_fbf6_11ed_8c9a_0242ac120021row0_col5\" class=\"data row0 col5\" >0.001772</td>\n",
       "                        <td id=\"T_32e358aa_fbf6_11ed_8c9a_0242ac120021row0_col6\" class=\"data row0 col6\" >0.034963</td>\n",
       "                        <td id=\"T_32e358aa_fbf6_11ed_8c9a_0242ac120021row0_col7\" class=\"data row0 col7\" >False</td>\n",
       "                        <td id=\"T_32e358aa_fbf6_11ed_8c9a_0242ac120021row0_col8\" class=\"data row0 col8\" >False</td>\n",
       "                        <td id=\"T_32e358aa_fbf6_11ed_8c9a_0242ac120021row0_col9\" class=\"data row0 col9\" >1.403025</td>\n",
       "                        <td id=\"T_32e358aa_fbf6_11ed_8c9a_0242ac120021row0_col10\" class=\"data row0 col10\" >0.383364</td>\n",
       "                        <td id=\"T_32e358aa_fbf6_11ed_8c9a_0242ac120021row0_col11\" class=\"data row0 col11\" >0.001772</td>\n",
       "            </tr>\n",
       "            <tr>\n",
       "                        <th id=\"T_32e358aa_fbf6_11ed_8c9a_0242ac120021level0_row1\" class=\"row_heading level0 row1\" >Action</th>\n",
       "                        <td id=\"T_32e358aa_fbf6_11ed_8c9a_0242ac120021row1_col0\" class=\"data row1 col0\" >Do nothing</td>\n",
       "                        <td id=\"T_32e358aa_fbf6_11ed_8c9a_0242ac120021row1_col1\" class=\"data row1 col1\" ></td>\n",
       "                        <td id=\"T_32e358aa_fbf6_11ed_8c9a_0242ac120021row1_col2\" class=\"data row1 col2\" ></td>\n",
       "                        <td id=\"T_32e358aa_fbf6_11ed_8c9a_0242ac120021row1_col3\" class=\"data row1 col3\" ></td>\n",
       "                        <td id=\"T_32e358aa_fbf6_11ed_8c9a_0242ac120021row1_col4\" class=\"data row1 col4\" ></td>\n",
       "                        <td id=\"T_32e358aa_fbf6_11ed_8c9a_0242ac120021row1_col5\" class=\"data row1 col5\" ></td>\n",
       "                        <td id=\"T_32e358aa_fbf6_11ed_8c9a_0242ac120021row1_col6\" class=\"data row1 col6\" ></td>\n",
       "                        <td id=\"T_32e358aa_fbf6_11ed_8c9a_0242ac120021row1_col7\" class=\"data row1 col7\" ></td>\n",
       "                        <td id=\"T_32e358aa_fbf6_11ed_8c9a_0242ac120021row1_col8\" class=\"data row1 col8\" ></td>\n",
       "                        <td id=\"T_32e358aa_fbf6_11ed_8c9a_0242ac120021row1_col9\" class=\"data row1 col9\" ></td>\n",
       "                        <td id=\"T_32e358aa_fbf6_11ed_8c9a_0242ac120021row1_col10\" class=\"data row1 col10\" ></td>\n",
       "                        <td id=\"T_32e358aa_fbf6_11ed_8c9a_0242ac120021row1_col11\" class=\"data row1 col11\" ></td>\n",
       "            </tr>\n",
       "            <tr>\n",
       "                        <th id=\"T_32e358aa_fbf6_11ed_8c9a_0242ac120021level0_row2\" class=\"row_heading level0 row2\" >Next State</th>\n",
       "                        <td id=\"T_32e358aa_fbf6_11ed_8c9a_0242ac120021row2_col0\" class=\"data row2 col0\" ></td>\n",
       "                        <td id=\"T_32e358aa_fbf6_11ed_8c9a_0242ac120021row2_col1\" class=\"data row2 col1\" >-0.003048</td>\n",
       "                        <td id=\"T_32e358aa_fbf6_11ed_8c9a_0242ac120021row2_col2\" class=\"data row2 col2\" >1.394552</td>\n",
       "                        <td id=\"T_32e358aa_fbf6_11ed_8c9a_0242ac120021row2_col3\" class=\"data row2 col3\" >-0.154142</td>\n",
       "                        <td id=\"T_32e358aa_fbf6_11ed_8c9a_0242ac120021row2_col4\" class=\"data row2 col4\" >-0.376560</td>\n",
       "                        <td id=\"T_32e358aa_fbf6_11ed_8c9a_0242ac120021row2_col5\" class=\"data row2 col5\" >0.003500</td>\n",
       "                        <td id=\"T_32e358aa_fbf6_11ed_8c9a_0242ac120021row2_col6\" class=\"data row2 col6\" >0.034555</td>\n",
       "                        <td id=\"T_32e358aa_fbf6_11ed_8c9a_0242ac120021row2_col7\" class=\"data row2 col7\" >False</td>\n",
       "                        <td id=\"T_32e358aa_fbf6_11ed_8c9a_0242ac120021row2_col8\" class=\"data row2 col8\" >False</td>\n",
       "                        <td id=\"T_32e358aa_fbf6_11ed_8c9a_0242ac120021row2_col9\" class=\"data row2 col9\" >1.394555</td>\n",
       "                        <td id=\"T_32e358aa_fbf6_11ed_8c9a_0242ac120021row2_col10\" class=\"data row2 col10\" >0.406887</td>\n",
       "                        <td id=\"T_32e358aa_fbf6_11ed_8c9a_0242ac120021row2_col11\" class=\"data row2 col11\" >0.003500</td>\n",
       "            </tr>\n",
       "            <tr>\n",
       "                        <th id=\"T_32e358aa_fbf6_11ed_8c9a_0242ac120021level0_row3\" class=\"row_heading level0 row3\" >Reward</th>\n",
       "                        <td id=\"T_32e358aa_fbf6_11ed_8c9a_0242ac120021row3_col0\" class=\"data row3 col0\" >-1.677995</td>\n",
       "                        <td id=\"T_32e358aa_fbf6_11ed_8c9a_0242ac120021row3_col1\" class=\"data row3 col1\" ></td>\n",
       "                        <td id=\"T_32e358aa_fbf6_11ed_8c9a_0242ac120021row3_col2\" class=\"data row3 col2\" ></td>\n",
       "                        <td id=\"T_32e358aa_fbf6_11ed_8c9a_0242ac120021row3_col3\" class=\"data row3 col3\" ></td>\n",
       "                        <td id=\"T_32e358aa_fbf6_11ed_8c9a_0242ac120021row3_col4\" class=\"data row3 col4\" ></td>\n",
       "                        <td id=\"T_32e358aa_fbf6_11ed_8c9a_0242ac120021row3_col5\" class=\"data row3 col5\" ></td>\n",
       "                        <td id=\"T_32e358aa_fbf6_11ed_8c9a_0242ac120021row3_col6\" class=\"data row3 col6\" ></td>\n",
       "                        <td id=\"T_32e358aa_fbf6_11ed_8c9a_0242ac120021row3_col7\" class=\"data row3 col7\" ></td>\n",
       "                        <td id=\"T_32e358aa_fbf6_11ed_8c9a_0242ac120021row3_col8\" class=\"data row3 col8\" ></td>\n",
       "                        <td id=\"T_32e358aa_fbf6_11ed_8c9a_0242ac120021row3_col9\" class=\"data row3 col9\" ></td>\n",
       "                        <td id=\"T_32e358aa_fbf6_11ed_8c9a_0242ac120021row3_col10\" class=\"data row3 col10\" ></td>\n",
       "                        <td id=\"T_32e358aa_fbf6_11ed_8c9a_0242ac120021row3_col11\" class=\"data row3 col11\" ></td>\n",
       "            </tr>\n",
       "            <tr>\n",
       "                        <th id=\"T_32e358aa_fbf6_11ed_8c9a_0242ac120021level0_row4\" class=\"row_heading level0 row4\" >Episode Terminated</th>\n",
       "                        <td id=\"T_32e358aa_fbf6_11ed_8c9a_0242ac120021row4_col0\" class=\"data row4 col0\" >False</td>\n",
       "                        <td id=\"T_32e358aa_fbf6_11ed_8c9a_0242ac120021row4_col1\" class=\"data row4 col1\" ></td>\n",
       "                        <td id=\"T_32e358aa_fbf6_11ed_8c9a_0242ac120021row4_col2\" class=\"data row4 col2\" ></td>\n",
       "                        <td id=\"T_32e358aa_fbf6_11ed_8c9a_0242ac120021row4_col3\" class=\"data row4 col3\" ></td>\n",
       "                        <td id=\"T_32e358aa_fbf6_11ed_8c9a_0242ac120021row4_col4\" class=\"data row4 col4\" ></td>\n",
       "                        <td id=\"T_32e358aa_fbf6_11ed_8c9a_0242ac120021row4_col5\" class=\"data row4 col5\" ></td>\n",
       "                        <td id=\"T_32e358aa_fbf6_11ed_8c9a_0242ac120021row4_col6\" class=\"data row4 col6\" ></td>\n",
       "                        <td id=\"T_32e358aa_fbf6_11ed_8c9a_0242ac120021row4_col7\" class=\"data row4 col7\" ></td>\n",
       "                        <td id=\"T_32e358aa_fbf6_11ed_8c9a_0242ac120021row4_col8\" class=\"data row4 col8\" ></td>\n",
       "                        <td id=\"T_32e358aa_fbf6_11ed_8c9a_0242ac120021row4_col9\" class=\"data row4 col9\" ></td>\n",
       "                        <td id=\"T_32e358aa_fbf6_11ed_8c9a_0242ac120021row4_col10\" class=\"data row4 col10\" ></td>\n",
       "                        <td id=\"T_32e358aa_fbf6_11ed_8c9a_0242ac120021row4_col11\" class=\"data row4 col11\" ></td>\n",
       "            </tr>\n",
       "    </tbody></table>"
      ],
      "text/plain": [
       "<pandas.io.formats.style.Styler at 0x7f7bddd15b90>"
      ]
     },
     "metadata": {},
     "output_type": "display_data"
    }
   ],
   "source": [
    "# Select an action\n",
    "action = 0\n",
    "\n",
    "# Run a single time step of the environment's dynamics with the given action.\n",
    "next_state, reward, done, _ = env.step(action)\n",
    "\n",
    "# Display table with values.\n",
    "utils.display_table(current_state, action, next_state, reward, done)\n",
    "\n",
    "# Replace the `current_state` with the state after the action is taken\n",
    "current_state = next_state"
   ]
  },
  {
   "cell_type": "markdown",
   "metadata": {},
   "source": [
    "In practice, when we train the agent we use a loop to allow the agent to take many consecutive actions during an episode."
   ]
  },
  {
   "cell_type": "markdown",
   "metadata": {},
   "source": [
    "<a name=\"6\"></a>\n",
    "## 6 - Deep Q-Learning\n",
    "\n",
    "In cases where both the state and action space are discrete we can estimate the action-value function iteratively by using the Bellman equation:\n",
    "\n",
    "$$\n",
    "Q_{i+1}(s,a) = R + \\gamma \\max_{a'}Q_i(s',a')\n",
    "$$\n",
    "\n",
    "This iterative method converges to the optimal action-value function $Q^*(s,a)$ as $i\\to\\infty$. This means that the agent just needs to gradually explore the state-action space and keep updating the estimate of $Q(s,a)$ until it converges to the optimal action-value function $Q^*(s,a)$. However, in cases where the state space is continuous it becomes practically impossible to explore the entire state-action space. Consequently, this also makes it practically impossible to gradually estimate $Q(s,a)$ until it converges to $Q^*(s,a)$.\n",
    "\n",
    "In the Deep $Q$-Learning, we solve this problem by using a neural network to estimate the action-value function $Q(s,a)\\approx Q^*(s,a)$. We call this neural network a $Q$-Network and it can be trained by adjusting its weights at each iteration to minimize the mean-squared error in the Bellman equation.\n",
    "\n",
    "Unfortunately, using neural networks in reinforcement learning to estimate action-value functions has proven to be highly unstable. Luckily, there's a couple of techniques that can be employed to avoid instabilities. These techniques consist of using a ***Target Network*** and ***Experience Replay***. We will explore these two techniques in the following sections."
   ]
  },
  {
   "cell_type": "markdown",
   "metadata": {},
   "source": [
    "<a name=\"6.1\"></a>\n",
    "### 6.1 Target Network\n",
    "\n",
    "We can train the $Q$-Network by adjusting it's weights at each iteration to minimize the mean-squared error in the Bellman equation, where the target values are given by:\n",
    "\n",
    "$$\n",
    "y = R + \\gamma \\max_{a'}Q(s',a';w)\n",
    "$$\n",
    "\n",
    "where $w$ are the weights of the $Q$-Network. This means that we are adjusting the weights $w$ at each iteration to minimize the following error:\n",
    "\n",
    "$$\n",
    "\\overbrace{\\underbrace{R + \\gamma \\max_{a'}Q(s',a'; w)}_{\\rm {y~target}} - Q(s,a;w)}^{\\rm {Error}}\n",
    "$$\n",
    "\n",
    "Notice that this forms a problem because the $y$ target is changing on every iteration. Having a constantly moving target can lead to oscillations and instabilities. To avoid this, we can create\n",
    "a separate neural network for generating the $y$ targets. We call this separate neural network the **target $\\hat Q$-Network** and it will have the same architecture as the original $Q$-Network. By using the target $\\hat Q$-Network, the above error becomes:\n",
    "\n",
    "$$\n",
    "\\overbrace{\\underbrace{R + \\gamma \\max_{a'}\\hat{Q}(s',a'; w^-)}_{\\rm {y~target}} - Q(s,a;w)}^{\\rm {Error}}\n",
    "$$\n",
    "\n",
    "where $w^-$ and $w$ are the weights of the target $\\hat Q$-Network and $Q$-Network, respectively.\n",
    "\n",
    "In practice, we will use the following algorithm: every $C$ time steps we will use the $\\hat Q$-Network to generate the $y$ targets and update the weights of the target $\\hat Q$-Network using the weights of the $Q$-Network. We will update the weights $w^-$ of the the target $\\hat Q$-Network using a **soft update**. This means that we will update the weights $w^-$ using the following rule:\n",
    " \n",
    "$$\n",
    "w^-\\leftarrow \\tau w + (1 - \\tau) w^-\n",
    "$$\n",
    "\n",
    "where $\\tau\\ll 1$. By using the soft update, we are ensuring that the target values, $y$, change slowly, which greatly improves the stability of our learning algorithm."
   ]
  },
  {
   "cell_type": "markdown",
   "metadata": {},
   "source": [
    "<a name=\"ex01\"></a>\n",
    "### Exercise 1\n",
    "\n",
    "In this exercise you will create the $Q$ and target $\\hat Q$ networks and set the optimizer. Remember that the Deep $Q$-Network (DQN) is a neural network that approximates the action-value function $Q(s,a)\\approx Q^*(s,a)$. It does this by learning how to map states to $Q$ values.\n",
    "\n",
    "To solve the Lunar Lander environment, we are going to employ a DQN with the following architecture:\n",
    "\n",
    "* An `Input` layer that takes `state_size` as input.\n",
    "\n",
    "* A `Dense` layer with `64` units and a `relu` activation function.\n",
    "\n",
    "* A `Dense` layer with `64` units and a `relu` activation function.\n",
    "\n",
    "* A `Dense` layer with `num_actions` units and a `linear` activation function. This will be the output layer of our network.\n",
    "\n",
    "\n",
    "In the cell below you should create the $Q$-Network and the target $\\hat Q$-Network using the model architecture described above. Remember that both the $Q$-Network and the target $\\hat Q$-Network have the same architecture.\n",
    "\n",
    "Lastly, you should set `Adam` as the optimizer with a learning rate equal to `ALPHA`. Recall that `ALPHA` was defined in the [Hyperparameters](#2) section. We should note that for this exercise you should use the already imported packages:\n",
    "```python\n",
    "from tensorflow.keras.layers import Dense, Input\n",
    "from tensorflow.keras.optimizers import Adam\n",
    "```"
   ]
  },
  {
   "cell_type": "code",
   "execution_count": 24,
   "metadata": {
    "deletable": false
   },
   "outputs": [],
   "source": [
    "# UNQ_C1\n",
    "# GRADED CELL\n",
    "\n",
    "# Create the Q-Network\n",
    "q_network = Sequential([\n",
    "    ### START CODE HERE ###\n",
    "#     tf.keras.Input(shape=state_size),\n",
    "#     tf.keras.layers.Dense(64, activation='relu'),\n",
    "#     tf.keras.layers.Dense(64, activation='relu'),\n",
    "#     tf.keras.layers.Dense(num_actions, activation='linear')\n",
    "\n",
    "    Input(shape=state_size),                      \n",
    "    Dense(units=64, activation='relu'),            \n",
    "    Dense(units=64, activation='relu'),            \n",
    "    Dense(units=num_actions, activation='linear'),\n",
    "    ### END CODE HERE ### \n",
    "    ])\n",
    "\n",
    "# Create the target Q^-Network\n",
    "target_q_network = Sequential([\n",
    "    ### START CODE HERE ### \n",
    "#     tf.keras.Input(shape=state_size),\n",
    "#     tf.keras.layers.Dense(64, activation='relu'),\n",
    "#     tf.keras.layers.Dense(64, activation='relu'),\n",
    "#     tf.keras.layers.Dense(num_actions, activation='linear')    \n",
    "    Input(shape=state_size),                       \n",
    "    Dense(units=64, activation='relu'),            \n",
    "    Dense(units=64, activation='relu'),            \n",
    "    Dense(units=num_actions, activation='linear'),\n",
    "    ### END CODE HERE ###\n",
    "    ])\n",
    "\n",
    "### START CODE HERE ### \n",
    "# optimizer = tf.keras.optimizers.Adam(learning_rate=ALPHA)\n",
    "optimizer = Adam(learning_rate=ALPHA)  \n",
    "### END CODE HERE ###"
   ]
  },
  {
   "cell_type": "code",
   "execution_count": 25,
   "metadata": {
    "deletable": false,
    "editable": false
   },
   "outputs": [
    {
     "name": "stdout",
     "output_type": "stream",
     "text": [
      "\u001b[92mAll tests passed!\n",
      "\u001b[92mAll tests passed!\n",
      "\u001b[92mAll tests passed!\n"
     ]
    }
   ],
   "source": [
    "# UNIT TEST\n",
    "from public_tests import *\n",
    "\n",
    "test_network(q_network)\n",
    "test_network(target_q_network)\n",
    "test_optimizer(optimizer, ALPHA) "
   ]
  },
  {
   "cell_type": "markdown",
   "metadata": {},
   "source": [
    "<details>\n",
    "  <summary><font size=\"3\" color=\"darkgreen\"><b>Click for hints</b></font></summary>\n",
    "    \n",
    "```python\n",
    "# Create the Q-Network\n",
    "q_network = Sequential([\n",
    "    Input(shape=state_size),                      \n",
    "    Dense(units=64, activation='relu'),            \n",
    "    Dense(units=64, activation='relu'),            \n",
    "    Dense(units=num_actions, activation='linear'),\n",
    "    ])\n",
    "\n",
    "# Create the target Q^-Network\n",
    "target_q_network = Sequential([\n",
    "    Input(shape=state_size),                       \n",
    "    Dense(units=64, activation='relu'),            \n",
    "    Dense(units=64, activation='relu'),            \n",
    "    Dense(units=num_actions, activation='linear'), \n",
    "    ])\n",
    "\n",
    "optimizer = Adam(learning_rate=ALPHA)                                  \n",
    "``` "
   ]
  },
  {
   "cell_type": "markdown",
   "metadata": {},
   "source": [
    "<a name=\"6.2\"></a>\n",
    "### 6.2 Experience Replay\n",
    "\n",
    "When an agent interacts with the environment, the states, actions, and rewards the agent experiences are sequential by nature. If the agent tries to learn from these consecutive experiences it can run into problems due to the strong correlations between them. To avoid this, we employ a technique known as **Experience Replay** to generate uncorrelated experiences for training our agent. Experience replay consists of storing the agent's experiences (i.e the states, actions, and rewards the agent receives) in a memory buffer and then sampling a random mini-batch of experiences from the buffer to do the learning. The experience tuples $(S_t, A_t, R_t, S_{t+1})$ will be added to the memory buffer at each time step as the agent interacts with the environment.\n",
    "\n",
    "For convenience, we will store the experiences as named tuples."
   ]
  },
  {
   "cell_type": "code",
   "execution_count": 26,
   "metadata": {
    "deletable": false,
    "editable": false
   },
   "outputs": [],
   "source": [
    "# Store experiences as named tuples\n",
    "experience = namedtuple(\"Experience\", field_names=[\"state\", \"action\", \"reward\", \"next_state\", \"done\"])"
   ]
  },
  {
   "cell_type": "markdown",
   "metadata": {},
   "source": [
    "By using experience replay we avoid problematic correlations, oscillations and instabilities. In addition, experience replay also allows the agent to potentially use the same experience in multiple weight updates, which increases data efficiency."
   ]
  },
  {
   "cell_type": "markdown",
   "metadata": {},
   "source": [
    "<a name=\"7\"></a>\n",
    "## 7 - Deep Q-Learning Algorithm with Experience Replay\n",
    "\n",
    "Now that we know all the techniques that we are going to use, we can put them together to arrive at the Deep Q-Learning Algorithm With Experience Replay.\n",
    "<br>\n",
    "<br>\n",
    "<figure>\n",
    "  <img src = \"images/deep_q_algorithm.png\" width = 90% style = \"border: thin silver solid; padding: 0px\">\n",
    "      <figcaption style = \"text-align: center; font-style: italic\">Fig 3. Deep Q-Learning with Experience Replay.</figcaption>\n",
    "</figure>"
   ]
  },
  {
   "cell_type": "markdown",
   "metadata": {},
   "source": [
    "<a name=\"ex02\"></a>\n",
    "### Exercise 2\n",
    "\n",
    "In this exercise you will implement line ***12*** of the algorithm outlined in *Fig 3* above and you will also compute the loss between the $y$ targets and the $Q(s,a)$ values. In the cell below, complete the `compute_loss` function by setting the $y$ targets equal to:\n",
    "\n",
    "$$\n",
    "\\begin{equation}\n",
    "    y_j =\n",
    "    \\begin{cases}\n",
    "      R_j & \\text{if episode terminates at step  } j+1\\\\\n",
    "      R_j + \\gamma \\max_{a'}\\hat{Q}(s_{j+1},a') & \\text{otherwise}\\\\\n",
    "    \\end{cases}       \n",
    "\\end{equation}\n",
    "$$\n",
    "\n",
    "Here are a couple of things to note:\n",
    "\n",
    "* The `compute_loss` function takes in a mini-batch of experience tuples. This mini-batch of experience tuples is unpacked to extract the `states`, `actions`, `rewards`, `next_states`, and `done_vals`. You should keep in mind that these variables are *TensorFlow Tensors* whose size will depend on the mini-batch size. For example, if the mini-batch size is `64` then both `rewards` and `done_vals` will be TensorFlow Tensors with `64` elements.\n",
    "\n",
    "\n",
    "* Using `if/else` statements to set the $y$ targets will not work when the variables are tensors with many elements. However, notice that you can use the `done_vals` to implement the above in a single line of code. To do this, recall that the `done` variable is a Boolean variable that takes the value `True` when an episode terminates at step $j+1$ and it is `False` otherwise. Taking into account that a Boolean value of `True` has the numerical value of `1` and a Boolean value of `False` has the numerical value of `0`, you can use the factor `(1 - done_vals)` to implement the above in a single line of code. Here's a hint: notice that `(1 - done_vals)` has a value of `0` when `done_vals` is `True` and a value of `1` when `done_vals` is `False`. \n",
    "\n",
    "Lastly, compute the loss by calculating the Mean-Squared Error (`MSE`) between the `y_targets` and the `q_values`. To calculate the mean-squared error you should use the already imported package `MSE`:\n",
    "```python\n",
    "from tensorflow.keras.losses import MSE\n",
    "```"
   ]
  },
  {
   "cell_type": "code",
   "execution_count": 33,
   "metadata": {
    "deletable": false
   },
   "outputs": [],
   "source": [
    "# UNQ_C2\n",
    "# GRADED FUNCTION: calculate_loss\n",
    "\n",
    "def compute_loss(experiences, gamma, q_network, target_q_network):\n",
    "    \"\"\" \n",
    "    Calculates the loss.\n",
    "    \n",
    "    Args:\n",
    "      experiences: (tuple) tuple of [\"state\", \"action\", \"reward\", \"next_state\", \"done\"] namedtuples\n",
    "      gamma: (float) The discount factor.\n",
    "      q_network: (tf.keras.Sequential) Keras model for predicting the q_values\n",
    "      target_q_network: (tf.keras.Sequential) Keras model for predicting the targets\n",
    "          \n",
    "    Returns:\n",
    "      loss: (TensorFlow Tensor(shape=(0,), dtype=int32)) the Mean-Squared Error between\n",
    "            the y targets and the Q(s,a) values.\n",
    "    \"\"\"\n",
    "\n",
    "    # Unpack the mini-batch of experience tuples\n",
    "    states, actions, rewards, next_states, done_vals = experiences\n",
    "    \n",
    "    # Compute max Q^(s,a)\n",
    "    max_qsa = tf.reduce_max(target_q_network(next_states), axis=-1)\n",
    "    \n",
    "    # Set y = R if episode terminates, otherwise set y = R + γ max Q^(s,a).\n",
    "    ### START CODE HERE ### \n",
    "    y_targets = rewards + gamma * max_qsa * (1 - done_vals)\n",
    "    ### END CODE HERE ###\n",
    "    \n",
    "    # Get the q_values and reshape to match y_targets\n",
    "    q_values = q_network(states)\n",
    "    q_values = tf.gather_nd(q_values, tf.stack([tf.range(q_values.shape[0]),\n",
    "                                                tf.cast(actions, tf.int32)], axis=1))\n",
    "        \n",
    "    # Compute the loss\n",
    "    ### START CODE HERE ### \n",
    "    loss = MSE(y_targets, q_values)\n",
    "    ### END CODE HERE ### \n",
    "    \n",
    "    return loss"
   ]
  },
  {
   "cell_type": "code",
   "execution_count": 34,
   "metadata": {
    "deletable": false,
    "editable": false
   },
   "outputs": [
    {
     "name": "stdout",
     "output_type": "stream",
     "text": [
      "\u001b[92mAll tests passed!\n"
     ]
    }
   ],
   "source": [
    "# UNIT TEST    \n",
    "test_compute_loss(compute_loss)"
   ]
  },
  {
   "cell_type": "markdown",
   "metadata": {},
   "source": [
    "<details>\n",
    "  <summary><font size=\"3\" color=\"darkgreen\"><b>Click for hints</b></font></summary>\n",
    "    \n",
    "```python\n",
    "def compute_loss(experiences, gamma, q_network, target_q_network):\n",
    "    \"\"\" \n",
    "    Calculates the loss.\n",
    "    \n",
    "    Args:\n",
    "      experiences: (tuple) tuple of [\"state\", \"action\", \"reward\", \"next_state\", \"done\"] namedtuples\n",
    "      gamma: (float) The discount factor.\n",
    "      q_network: (tf.keras.Sequential) Keras model for predicting the q_values\n",
    "      target_q_network: (tf.keras.Sequential) Keras model for predicting the targets\n",
    "          \n",
    "    Returns:\n",
    "      loss: (TensorFlow Tensor(shape=(0,), dtype=int32)) the Mean-Squared Error between\n",
    "            the y targets and the Q(s,a) values.\n",
    "    \"\"\"\n",
    "\n",
    "    \n",
    "    # Unpack the mini-batch of experience tuples\n",
    "    states, actions, rewards, next_states, done_vals = experiences\n",
    "    \n",
    "    # Compute max Q^(s,a)\n",
    "    max_qsa = tf.reduce_max(target_q_network(next_states), axis=-1)\n",
    "    \n",
    "    # Set y = R if episode terminates, otherwise set y = R + γ max Q^(s,a).\n",
    "    y_targets = rewards + (gamma * max_qsa * (1 - done_vals))\n",
    "    \n",
    "    # Get the q_values\n",
    "    q_values = q_network(states)\n",
    "    q_values = tf.gather_nd(q_values, tf.stack([tf.range(q_values.shape[0]),\n",
    "                                                tf.cast(actions, tf.int32)], axis=1))\n",
    "    \n",
    "    # Calculate the loss\n",
    "    loss = MSE(y_targets, q_values)\n",
    "    \n",
    "    return loss\n",
    "\n",
    "``` \n",
    "    "
   ]
  },
  {
   "cell_type": "markdown",
   "metadata": {},
   "source": [
    "<a name=\"8\"></a>\n",
    "## 8 - Update the Network Weights\n",
    "\n",
    "We will use the `agent_learn` function below to implement lines ***12 -14*** of the algorithm outlined in [Fig 3](#7). The `agent_learn` function will update the weights of the $Q$ and target $\\hat Q$ networks using a custom training loop. Because we are using a custom training loop we need to retrieve the gradients via a `tf.GradientTape` instance, and then call `optimizer.apply_gradients()` to update the weights of our $Q$-Network. Note that we are also using the `@tf.function` decorator to increase performance. Without this decorator our training will take twice as long. If you would like to know more about how to increase performance with `@tf.function` take a look at the [TensorFlow documentation](https://www.tensorflow.org/guide/function).\n",
    "\n",
    "The last line of this function updates the weights of the target $\\hat Q$-Network using a [soft update](#6.1). If you want to know how this is implemented in code we encourage you to take a look at the `utils.update_target_network` function in the `utils` module."
   ]
  },
  {
   "cell_type": "code",
   "execution_count": 35,
   "metadata": {
    "deletable": false,
    "editable": false
   },
   "outputs": [],
   "source": [
    "@tf.function\n",
    "def agent_learn(experiences, gamma):\n",
    "    \"\"\"\n",
    "    Updates the weights of the Q networks.\n",
    "    \n",
    "    Args:\n",
    "      experiences: (tuple) tuple of [\"state\", \"action\", \"reward\", \"next_state\", \"done\"] namedtuples\n",
    "      gamma: (float) The discount factor.\n",
    "    \n",
    "    \"\"\"\n",
    "    \n",
    "    # Calculate the loss\n",
    "    with tf.GradientTape() as tape:\n",
    "        loss = compute_loss(experiences, gamma, q_network, target_q_network)\n",
    "\n",
    "    # Get the gradients of the loss with respect to the weights.\n",
    "    gradients = tape.gradient(loss, q_network.trainable_variables)\n",
    "    \n",
    "    # Update the weights of the q_network.\n",
    "    optimizer.apply_gradients(zip(gradients, q_network.trainable_variables))\n",
    "\n",
    "    # update the weights of target q_network\n",
    "    utils.update_target_network(q_network, target_q_network)"
   ]
  },
  {
   "cell_type": "markdown",
   "metadata": {},
   "source": [
    "<a name=\"9\"></a>\n",
    "## 9 - Train the Agent\n",
    "\n",
    "We are now ready to train our agent to solve the Lunar Lander environment. In the cell below we will implement the algorithm in [Fig 3](#7) line by line (please note that we have included the same algorithm below for easy reference. This will prevent you from scrolling up and down the notebook):\n",
    "\n",
    "* **Line 1**: We initialize the `memory_buffer` with a capacity of $N =$ `MEMORY_SIZE`. Notice that we are using a `deque` as the data structure for our `memory_buffer`.\n",
    "\n",
    "\n",
    "* **Line 2**: We skip this line since we already initialized the `q_network` in [Exercise 1](#ex01).\n",
    "\n",
    "\n",
    "* **Line 3**: We initialize the `target_q_network` by setting its weights to be equal to those of the `q_network`.\n",
    "\n",
    "\n",
    "* **Line 4**: We start the outer loop. Notice that we have set $M =$ `num_episodes = 2000`. This number is reasonable because the agent should be able to solve the Lunar Lander environment in less than `2000` episodes using this notebook's default parameters.\n",
    "\n",
    "\n",
    "* **Line 5**: We use the `.reset()` method to reset the environment to the initial state and get the initial state.\n",
    "\n",
    "\n",
    "* **Line 6**: We start the inner loop. Notice that we have set $T =$ `max_num_timesteps = 1000`. This means that the episode will automatically terminate if the episode hasn't terminated after `1000` time steps.\n",
    "\n",
    "\n",
    "* **Line 7**: The agent observes the current `state` and chooses an `action` using an $\\epsilon$-greedy policy. Our agent starts out using a value of $\\epsilon =$ `epsilon = 1` which yields an $\\epsilon$-greedy policy that is equivalent to the equiprobable random policy. This means that at the beginning of our training, the agent is just going to take random actions regardless of the observed `state`. As training progresses we will decrease the value of $\\epsilon$ slowly towards a minimum value using a given $\\epsilon$-decay rate. We want this minimum value to be close to zero because a value of $\\epsilon = 0$ will yield an $\\epsilon$-greedy policy that is equivalent to the greedy policy. This means that towards the end of training, the agent will lean towards selecting the `action` that it believes (based on its past experiences) will maximize $Q(s,a)$. We will set the minimum $\\epsilon$ value to be `0.01` and not exactly 0 because we always want to keep a little bit of exploration during training. If you want to know how this is implemented in code we encourage you to take a look at the `utils.get_action` function in the `utils` module.\n",
    "\n",
    "\n",
    "* **Line 8**: We use the `.step()` method to take the given `action` in the environment and get the `reward` and the `next_state`. \n",
    "\n",
    "\n",
    "* **Line 9**: We store the `experience(state, action, reward, next_state, done)` tuple in our `memory_buffer`. Notice that we also store the `done` variable so that we can keep track of when an episode terminates. This allowed us to set the $y$ targets in [Exercise 2](#ex02).\n",
    "\n",
    "\n",
    "* **Line 10**: We check if the conditions are met to perform a learning update. We do this by using our custom `utils.check_update_conditions` function. This function checks if $C =$ `NUM_STEPS_FOR_UPDATE = 4` time steps have occured and if our `memory_buffer` has enough experience tuples to fill a mini-batch. For example, if the mini-batch size is `64`, then our `memory_buffer` should have more than `64` experience tuples in order to pass the latter condition. If the conditions are met, then the `utils.check_update_conditions` function will return a value of `True`, otherwise it will return a value of `False`.\n",
    "\n",
    "\n",
    "* **Lines 11 - 14**: If the `update` variable is `True` then we perform a learning update. The learning update consists of sampling a random mini-batch of experience tuples from our `memory_buffer`, setting the $y$ targets, performing gradient descent, and updating the weights of the networks. We will use the `agent_learn` function we defined in [Section 8](#8) to perform the latter 3.\n",
    "\n",
    "\n",
    "* **Line 15**: At the end of each iteration of the inner loop we set `next_state` as our new `state` so that the loop can start again from this new state. In addition, we check if the episode has reached a terminal state (i.e we check if `done = True`). If a terminal state has been reached, then we break out of the inner loop.\n",
    "\n",
    "\n",
    "* **Line 16**: At the end of each iteration of the outer loop we update the value of $\\epsilon$, and check if the environment has been solved. We consider that the environment has been solved if the agent receives an average of `200` points in the last `100` episodes. If the environment has not been solved we continue the outer loop and start a new episode.\n",
    "\n",
    "Finally, we wanted to note that we have included some extra variables to keep track of the total number of points the agent received in each episode. This will help us determine if the agent has solved the environment and it will also allow us to see how our agent performed during training. We also use the `time` module to measure how long the training takes. \n",
    "\n",
    "<br>\n",
    "<br>\n",
    "<figure>\n",
    "  <img src = \"images/deep_q_algorithm.png\" width = 90% style = \"border: thin silver solid; padding: 0px\">\n",
    "      <figcaption style = \"text-align: center; font-style: italic\">Fig 4. Deep Q-Learning with Experience Replay.</figcaption>\n",
    "</figure>\n",
    "<br>\n",
    "\n",
    "**Note:** With this notebook's default parameters, the following cell takes between 10 to 15 minutes to run. "
   ]
  },
  {
   "cell_type": "code",
   "execution_count": 36,
   "metadata": {
    "deletable": false,
    "editable": false
   },
   "outputs": [
    {
     "name": "stdout",
     "output_type": "stream",
     "text": [
      "Episode 100 | Total point average of the last 100 episodes: -133.21\n",
      "Episode 200 | Total point average of the last 100 episodes: -91.025\n",
      "Episode 300 | Total point average of the last 100 episodes: -50.52\n",
      "Episode 400 | Total point average of the last 100 episodes: 1.6126\n",
      "Episode 500 | Total point average of the last 100 episodes: 127.26\n",
      "Episode 600 | Total point average of the last 100 episodes: 189.91\n",
      "Episode 615 | Total point average of the last 100 episodes: 200.76\n",
      "\n",
      "Environment solved in 615 episodes!\n",
      "\n",
      "Total Runtime: 775.19 s (12.92 min)\n"
     ]
    }
   ],
   "source": [
    "start = time.time()\n",
    "\n",
    "num_episodes = 2000\n",
    "max_num_timesteps = 1000\n",
    "\n",
    "total_point_history = []\n",
    "\n",
    "num_p_av = 100    # number of total points to use for averaging\n",
    "epsilon = 1.0     # initial ε value for ε-greedy policy\n",
    "\n",
    "# Create a memory buffer D with capacity N\n",
    "memory_buffer = deque(maxlen=MEMORY_SIZE)\n",
    "\n",
    "# Set the target network weights equal to the Q-Network weights\n",
    "target_q_network.set_weights(q_network.get_weights())\n",
    "\n",
    "for i in range(num_episodes):\n",
    "    \n",
    "    # Reset the environment to the initial state and get the initial state\n",
    "    state = env.reset()\n",
    "    total_points = 0\n",
    "    \n",
    "    for t in range(max_num_timesteps):\n",
    "        \n",
    "        # From the current state S choose an action A using an ε-greedy policy\n",
    "        state_qn = np.expand_dims(state, axis=0)  # state needs to be the right shape for the q_network\n",
    "        q_values = q_network(state_qn)\n",
    "        action = utils.get_action(q_values, epsilon)\n",
    "        \n",
    "        # Take action A and receive reward R and the next state S'\n",
    "        next_state, reward, done, _ = env.step(action)\n",
    "        \n",
    "        # Store experience tuple (S,A,R,S') in the memory buffer.\n",
    "        # We store the done variable as well for convenience.\n",
    "        memory_buffer.append(experience(state, action, reward, next_state, done))\n",
    "        \n",
    "        # Only update the network every NUM_STEPS_FOR_UPDATE time steps.\n",
    "        update = utils.check_update_conditions(t, NUM_STEPS_FOR_UPDATE, memory_buffer)\n",
    "        \n",
    "        if update:\n",
    "            # Sample random mini-batch of experience tuples (S,A,R,S') from D\n",
    "            experiences = utils.get_experiences(memory_buffer)\n",
    "            \n",
    "            # Set the y targets, perform a gradient descent step,\n",
    "            # and update the network weights.\n",
    "            agent_learn(experiences, GAMMA)\n",
    "        \n",
    "        state = next_state.copy()\n",
    "        total_points += reward\n",
    "        \n",
    "        if done:\n",
    "            break\n",
    "            \n",
    "    total_point_history.append(total_points)\n",
    "    av_latest_points = np.mean(total_point_history[-num_p_av:])\n",
    "    \n",
    "    # Update the ε value\n",
    "    epsilon = utils.get_new_eps(epsilon)\n",
    "\n",
    "    print(f\"\\rEpisode {i+1} | Total point average of the last {num_p_av} episodes: {av_latest_points:.2f}\", end=\"\")\n",
    "\n",
    "    if (i+1) % num_p_av == 0:\n",
    "        print(f\"\\rEpisode {i+1} | Total point average of the last {num_p_av} episodes: {av_latest_points:.2f}\")\n",
    "\n",
    "    # We will consider that the environment is solved if we get an\n",
    "    # average of 200 points in the last 100 episodes.\n",
    "    if av_latest_points >= 200.0:\n",
    "        print(f\"\\n\\nEnvironment solved in {i+1} episodes!\")\n",
    "        q_network.save('lunar_lander_model.h5')\n",
    "        break\n",
    "        \n",
    "tot_time = time.time() - start\n",
    "\n",
    "print(f\"\\nTotal Runtime: {tot_time:.2f} s ({(tot_time/60):.2f} min)\")"
   ]
  },
  {
   "cell_type": "markdown",
   "metadata": {},
   "source": [
    "We can plot the total point history along with the moving average to see how our agent improved during training. If you want to know about the different plotting options available in the `utils.plot_history` function we encourage you to take a look at the `utils` module."
   ]
  },
  {
   "cell_type": "code",
   "execution_count": 37,
   "metadata": {
    "deletable": false,
    "editable": false,
    "id": "E_EUXxurfe8m",
    "scrolled": false
   },
   "outputs": [
    {
     "data": {
      "image/png": "[encoded data removed]",
      "text/plain": [
       "<Figure size 720x504 with 1 Axes>"
      ]
     },
     "metadata": {},
     "output_type": "display_data"
    }
   ],
   "source": [
    "# Plot the total point history along with the moving average\n",
    "utils.plot_history(total_point_history)"
   ]
  },
  {
   "cell_type": "markdown",
   "metadata": {
    "id": "c_xwgaX5MnYt"
   },
   "source": [
    "<a name=\"10\"></a>\n",
    "## 10 - See the Trained Agent In Action\n",
    "\n",
    "Now that we have trained our agent, we can see it in action. We will use the `utils.create_video` function to create a video of our agent interacting with the environment using the trained $Q$-Network. The `utils.create_video` function uses the `imageio` library to create the video. This library produces some warnings that can be distracting, so, to suppress these warnings we run the code below."
   ]
  },
  {
   "cell_type": "code",
   "execution_count": 38,
   "metadata": {
    "deletable": false,
    "editable": false
   },
   "outputs": [],
   "source": [
    "# Suppress warnings from imageio\n",
    "import logging\n",
    "logging.getLogger().setLevel(logging.ERROR)"
   ]
  },
  {
   "cell_type": "markdown",
   "metadata": {},
   "source": [
    "In the cell below we create a video of our agent interacting with the Lunar Lander environment using the trained `q_network`. The video is saved to the `videos` folder with the given `filename`. We use the `utils.embed_mp4` function to embed the video in the Jupyter Notebook so that we can see it here directly without having to download it.\n",
    "\n",
    "We should note that since the lunar lander starts with a random initial force applied to its center of mass, every time you run the cell below you will see a different video. If the agent was trained properly, it should be able to land the lunar lander in the landing pad every time, regardless of the initial force applied to its center of mass."
   ]
  },
  {
   "cell_type": "code",
   "execution_count": 42,
   "metadata": {
    "deletable": false,
    "editable": false,
    "id": "3Ttb_zLeJKiG"
   },
   "outputs": [
    {
     "data": {
      "text/html": [
       "\n",
       "    <video width=\"840\" height=\"480\" controls>\n",
       "    <source src=\"data:video/mp4;base64,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\" type=\"video/mp4\">\n",
       "    Your browser does not support the video tag.\n",
       "    </video>"
      ],
      "text/plain": [
       "<IPython.core.display.HTML object>"
      ]
     },
     "execution_count": 42,
     "metadata": {},
     "output_type": "execute_result"
    }
   ],
   "source": [
    "filename = \"./videos/lunar_lander.mp4\"\n",
    "\n",
    "utils.create_video(filename, env, q_network)\n",
    "utils.embed_mp4(filename)"
   ]
  },
  {
   "cell_type": "markdown",
   "metadata": {},
   "source": [
    "<a name=\"11\"></a>\n",
    "## 11 - Congratulations!\n",
    "\n",
    "You have successfully used Deep Q-Learning with Experience Replay to train an agent to land a lunar lander safely on a landing pad on the surface of the moon. Congratulations!"
   ]
  },
  {
   "cell_type": "markdown",
   "metadata": {},
   "source": [
    "<a name=\"12\"></a>\n",
    "## 12 - References\n",
    "\n",
    "If you would like to learn more about Deep Q-Learning, we recommend you check out the following papers.\n",
    "\n",
    "\n",
    "* Mnih, V., Kavukcuoglu, K., Silver, D. et al. Human-level control through deep reinforcement learning. Nature 518, 529–533 (2015).\n",
    "\n",
    "\n",
    "* Lillicrap, T. P., Hunt, J. J., Pritzel, A., et al. Continuous Control with Deep Reinforcement Learning. ICLR (2016).\n",
    "\n",
    "\n",
    "* Mnih, V., Kavukcuoglu, K., Silver, D. et al. Playing Atari with Deep Reinforcement Learning. arXiv e-prints.  arXiv:1312.5602 (2013)."
   ]
  },
  {
   "cell_type": "markdown",
   "metadata": {},
   "source": [
    "<details>\n",
    "  <summary><font size=\"2\" color=\"darkgreen\"><b>Please click here if you want to experiment with any of the non-graded code.</b></font></summary>\n",
    "    <p><i><b>Important Note: Please only do this when you've already passed the assignment to avoid problems with the autograder.</b></i>\n",
    "    <ol>\n",
    "        <li> On the notebook’s menu, click “View” > “Cell Toolbar” > “Edit Metadata”</li>\n",
    "        <li> Hit the “Edit Metadata” button next to the code cell which you want to lock/unlock</li>\n",
    "        <li> Set the attribute value for “editable” to:\n",
    "            <ul>\n",
    "                <li> “true” if you want to unlock it </li>\n",
    "                <li> “false” if you want to lock it </li>\n",
    "            </ul>\n",
    "        </li>\n",
    "        <li> On the notebook’s menu, click “View” > “Cell Toolbar” > “None” </li>\n",
    "    </ol>\n",
    "    <p> Here's a short demo of how to do the steps above: \n",
    "        <br>\n",
    "        <img src=\"https://drive.google.com/uc?export=view&id=14Xy_Mb17CZVgzVAgq7NCjMVBvSae3xO1\" align=\"center\" alt=\"unlock_cells.gif\">\n",
    "</details>"
   ]
  }
 ],
 "metadata": {
  "accelerator": "GPU",
  "colab": {
   "collapsed_sections": [],
   "name": "TensorFlow - Lunar Lander.ipynb",
   "provenance": []
  },
  "kernelspec": {
   "display_name": "Python 3",
   "language": "python",
   "name": "python3"
  },
  "language_info": {
   "codemirror_mode": {
    "name": "ipython",
    "version": 3
   },
   "file_extension": ".py",
   "mimetype": "text/x-python",
   "name": "python",
   "nbconvert_exporter": "python",
   "pygments_lexer": "ipython3",
   "version": "3.7.6"
  }
 },
 "nbformat": 4,
 "nbformat_minor": 1
}
